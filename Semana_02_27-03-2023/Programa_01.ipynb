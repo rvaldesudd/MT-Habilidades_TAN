{
 "cells": [
  {
   "cell_type": "code",
   "execution_count": 98,
   "metadata": {},
   "outputs": [
    {
     "name": "stdout",
     "output_type": "stream",
     "text": [
      "[50, 50, 47, 97, 49, 3, 53, 42, 26, 74, 82, 62, 37, 15, 70, 27, 36, 35, 48, 52, 63, 64]\n"
     ]
    }
   ],
   "source": [
    "data = [50,50,47,97,49,3,53,42,26,74,82,62,37,15,70,27,36,35,48,52,63,64]\n",
    "print(data)"
   ]
  },
  {
   "cell_type": "code",
   "execution_count": 88,
   "metadata": {},
   "outputs": [
    {
     "name": "stdout",
     "output_type": "stream",
     "text": [
      "[50 50 47 97 49  3 53 42 26 74 82 62 37 15 70 27 36 35 48 52 63 64]\n"
     ]
    }
   ],
   "source": [
    "import numpy as np\n",
    "\n",
    "grades = np.array(data)\n",
    "print(grades)\n"
   ]
  },
  {
   "cell_type": "code",
   "execution_count": 89,
   "metadata": {},
   "outputs": [
    {
     "name": "stdout",
     "output_type": "stream",
     "text": [
      "<class 'list'> x 2: [50, 50, 47, 97, 49, 3, 53, 42, 26, 74, 82, 62, 37, 15, 70, 27, 36, 35, 48, 52, 63, 64, 50, 50, 47, 97, 49, 3, 53, 42, 26, 74, 82, 62, 37, 15, 70, 27, 36, 35, 48, 52, 63, 64]\n",
      "---\n",
      "<class 'numpy.ndarray'> x 2: [100 100  94 194  98   6 106  84  52 148 164 124  74  30 140  54  72  70\n",
      "  96 104 126 128]\n",
      "(22,)\n",
      "50\n",
      "49.18181818181818\n"
     ]
    }
   ],
   "source": [
    "print(type(data),\"x 2:\",data*2)\n",
    "print('---')\n",
    "print(type(grades),\"x 2:\",grades*2)\n",
    "print(grades.shape)\n",
    "print(grades[0])\n",
    "print(grades.mean())"
   ]
  },
  {
   "cell_type": "code",
   "execution_count": 90,
   "metadata": {},
   "outputs": [
    {
     "name": "stdout",
     "output_type": "stream",
     "text": [
      "[[10.   11.5   9.   16.    9.25  1.   11.5   9.    8.5  14.5  15.5  13.75\n",
      "   9.    8.   15.5   8.    9.    6.   10.   12.   12.5  12.  ]\n",
      " [50.   50.   47.   97.   49.    3.   53.   42.   26.   74.   82.   62.\n",
      "  37.   15.   70.   27.   36.   35.   48.   52.   63.   64.  ]]\n",
      "(2, 22)\n",
      "10.0\n",
      "Average study hours: 10.52\n",
      "Average grade: 49.18\n"
     ]
    }
   ],
   "source": [
    "# Define an array of study hours\n",
    "study_hours = [10.0,11.5,9.0,16.0,9.25,1.0,11.5,9.0,8.5,14.5,15.5,\n",
    "               13.75,9.0,8.0,15.5,8.0,9.0,6.0,10.0,12.0,12.5,12.0]\n",
    "\n",
    "# Create a 2D array (an array of arrays)\n",
    "student_data = np.array([study_hours, grades])\n",
    "\n",
    "# display the array\n",
    "print(student_data)\n",
    "# Show shape of 2D array\n",
    "print(student_data.shape)\n",
    "\n",
    "# Show the first element of the first element\n",
    "print(student_data[0][0])\n",
    "\n",
    "# Get the mean value of each sub-array\n",
    "avg_study = student_data[0].mean()\n",
    "avg_grade = student_data[1].mean()\n",
    "\n",
    "print('Average study hours: {:.2f}\\nAverage grade: {:.2f}'.format(avg_study, avg_grade))"
   ]
  },
  {
   "cell_type": "code",
   "execution_count": 91,
   "metadata": {},
   "outputs": [
    {
     "name": "stdout",
     "output_type": "stream",
     "text": [
      "         Name  StudyHours  Grade\n",
      "0         Dan       10.00   50.0\n",
      "1       Joann       11.50   50.0\n",
      "2       Pedro        9.00   47.0\n",
      "3       Rosie       16.00   97.0\n",
      "4       Ethan        9.25   49.0\n",
      "5       Vicky        1.00    3.0\n",
      "6    Frederic       11.50   53.0\n",
      "7      Jimmie        9.00   42.0\n",
      "8      Rhonda        8.50   26.0\n",
      "9    Giovanni       14.50   74.0\n",
      "10  Francesca       15.50   82.0\n",
      "11      Rajab       13.75   62.0\n",
      "12    Naiyana        9.00   37.0\n",
      "13       Kian        8.00   15.0\n",
      "14      Jenny       15.50   70.0\n",
      "15     Jakeem        8.00   27.0\n",
      "16     Helena        9.00   36.0\n",
      "17      Ismat        6.00   35.0\n",
      "18      Anila       10.00   48.0\n",
      "19       Skye       12.00   52.0\n",
      "20     Daniel       12.50   63.0\n",
      "21      Aisha       12.00   64.0\n"
     ]
    }
   ],
   "source": [
    "import pandas as pd\n",
    "\n",
    "df_students = pd.DataFrame({'Name': ['Dan', 'Joann', 'Pedro', 'Rosie', 'Ethan', 'Vicky', 'Frederic', 'Jimmie', \n",
    "                                     'Rhonda', 'Giovanni', 'Francesca', 'Rajab', 'Naiyana', 'Kian', 'Jenny',\n",
    "                                     'Jakeem','Helena','Ismat','Anila','Skye','Daniel','Aisha'],\n",
    "                            'StudyHours':student_data[0],\n",
    "                            'Grade':student_data[1]})\n",
    "\n",
    "print(df_students)"
   ]
  },
  {
   "cell_type": "code",
   "execution_count": 92,
   "metadata": {},
   "outputs": [
    {
     "name": "stdout",
     "output_type": "stream",
     "text": [
      "Name          Vicky\n",
      "StudyHours      1.0\n",
      "Grade           3.0\n",
      "Name: 5, dtype: object\n",
      "    Name  StudyHours  Grade\n",
      "0    Dan       10.00   50.0\n",
      "1  Joann       11.50   50.0\n",
      "2  Pedro        9.00   47.0\n",
      "3  Rosie       16.00   97.0\n",
      "4  Ethan        9.25   49.0\n",
      "5  Vicky        1.00    3.0\n",
      "    Name  StudyHours  Grade\n",
      "0    Dan       10.00   50.0\n",
      "1  Joann       11.50   50.0\n",
      "2  Pedro        9.00   47.0\n",
      "3  Rosie       16.00   97.0\n",
      "4  Ethan        9.25   49.0\n",
      "StudyHours    10.0\n",
      "Grade         50.0\n",
      "Name: 0, dtype: object\n",
      "50.0\n"
     ]
    }
   ],
   "source": [
    "# Get the data for index value 5\n",
    "print(df_students.loc[5])\n",
    "# Get the rows with index values from 0 to 5\n",
    "print(df_students.loc[0:5])\n",
    "# Get data in the first five rows\n",
    "print(df_students.iloc[0:5])\n",
    "print(df_students.iloc[0,[1,2]])\n",
    "print(df_students.loc[0,'Grade'])"
   ]
  },
  {
   "cell_type": "code",
   "execution_count": 93,
   "metadata": {},
   "outputs": [
    {
     "name": "stdout",
     "output_type": "stream",
     "text": [
      "     Name  StudyHours  Grade\n",
      "21  Aisha        12.0   64.0\n",
      "     Name  StudyHours  Grade\n",
      "21  Aisha        12.0   64.0\n",
      "     Name  StudyHours  Grade\n",
      "21  Aisha        12.0   64.0\n",
      "     Name  StudyHours  Grade\n",
      "21  Aisha        12.0   64.0\n"
     ]
    }
   ],
   "source": [
    "print(df_students.loc[df_students['Name']=='Aisha'])\n",
    "print(df_students[df_students['Name']=='Aisha'])\n",
    "print(df_students.query('Name==\"Aisha\"'))\n",
    "print(df_students[df_students.Name == 'Aisha'])"
   ]
  },
  {
   "cell_type": "code",
   "execution_count": 94,
   "metadata": {},
   "outputs": [
    {
     "name": "stdout",
     "output_type": "stream",
     "text": [
      "         Name  StudyHours  Grade\n",
      "0         Dan       10.00   50.0\n",
      "1       Joann       11.50   50.0\n",
      "2       Pedro        9.00   47.0\n",
      "3       Rosie       16.00   97.0\n",
      "4       Ethan        9.25   49.0\n",
      "5       Vicky        1.00    3.0\n",
      "6    Frederic       11.50   53.0\n",
      "7      Jimmie        9.00   42.0\n",
      "8      Rhonda        8.50   26.0\n",
      "9    Giovanni       14.50   74.0\n",
      "10  Francesca       15.50   82.0\n",
      "11      Rajab       13.75   62.0\n",
      "12    Naiyana        9.00   37.0\n",
      "13       Kian        8.00   15.0\n",
      "14      Jenny       15.50   70.0\n",
      "15     Jakeem        8.00   27.0\n",
      "16     Helena        9.00   36.0\n",
      "17      Ismat        6.00   35.0\n",
      "18      Anila       10.00   48.0\n",
      "19       Skye       12.00   52.0\n",
      "20     Daniel       12.50   63.0\n",
      "21      Aisha       12.00   64.0\n",
      "22       Bill        8.00    NaN\n",
      "23        Ted         NaN    NaN\n"
     ]
    }
   ],
   "source": [
    "import wget\n",
    "url=\"https://raw.githubusercontent.com/MicrosoftDocs/mslearn-introduction-to-machine-learning/main/Data/ml-basics/grades.csv\"\n",
    "read_csv=wget.download(url)\n",
    "df_students=pd.read_csv('grades.csv',delimiter=',',header='infer')\n",
    "print(df_students)"
   ]
  },
  {
   "cell_type": "code",
   "execution_count": 95,
   "metadata": {},
   "outputs": [
    {
     "name": "stdout",
     "output_type": "stream",
     "text": [
      "    Name  StudyHours  Grade\n",
      "0    Dan       10.00   50.0\n",
      "1  Joann       11.50   50.0\n",
      "2  Pedro        9.00   47.0\n",
      "3  Rosie       16.00   97.0\n",
      "4  Ethan        9.25   49.0\n"
     ]
    }
   ],
   "source": [
    "print(df_students.head())\n",
    "\n"
   ]
  },
  {
   "cell_type": "code",
   "execution_count": 96,
   "metadata": {},
   "outputs": [
    {
     "name": "stdout",
     "output_type": "stream",
     "text": [
      "     Name  StudyHours  Grade\n",
      "0   False       False  False\n",
      "1   False       False  False\n",
      "2   False       False  False\n",
      "3   False       False  False\n",
      "4   False       False  False\n",
      "5   False       False  False\n",
      "6   False       False  False\n",
      "7   False       False  False\n",
      "8   False       False  False\n",
      "9   False       False  False\n",
      "10  False       False  False\n",
      "11  False       False  False\n",
      "12  False       False  False\n",
      "13  False       False  False\n",
      "14  False       False  False\n",
      "15  False       False  False\n",
      "16  False       False  False\n",
      "17  False       False  False\n",
      "18  False       False  False\n",
      "19  False       False  False\n",
      "20  False       False  False\n",
      "21  False       False  False\n",
      "22  False       False   True\n",
      "23  False        True   True\n"
     ]
    }
   ],
   "source": [
    "print(df_students.isnull())"
   ]
  },
  {
   "cell_type": "code",
   "execution_count": 97,
   "metadata": {},
   "outputs": [
    {
     "name": "stdout",
     "output_type": "stream",
     "text": [
      "Name          0\n",
      "StudyHours    1\n",
      "Grade         2\n",
      "dtype: int64\n",
      "    Name  StudyHours  Grade\n",
      "22  Bill         8.0    NaN\n",
      "23   Ted         NaN    NaN\n"
     ]
    }
   ],
   "source": [
    "print(df_students.isnull().sum())\n",
    "print(df_students[df_students.isnull().any(axis=1)])\n",
    "\n"
   ]
  },
  {
   "cell_type": "code",
   "execution_count": 79,
   "metadata": {},
   "outputs": [
    {
     "name": "stdout",
     "output_type": "stream",
     "text": [
      "         Name  StudyHours  Grade\n",
      "0         Dan   10.000000   50.0\n",
      "1       Joann   11.500000   50.0\n",
      "2       Pedro    9.000000   47.0\n",
      "3       Rosie   16.000000   97.0\n",
      "4       Ethan    9.250000   49.0\n",
      "5       Vicky    1.000000    3.0\n",
      "6    Frederic   11.500000   53.0\n",
      "7      Jimmie    9.000000   42.0\n",
      "8      Rhonda    8.500000   26.0\n",
      "9    Giovanni   14.500000   74.0\n",
      "10  Francesca   15.500000   82.0\n",
      "11      Rajab   13.750000   62.0\n",
      "12    Naiyana    9.000000   37.0\n",
      "13       Kian    8.000000   15.0\n",
      "14      Jenny   15.500000   70.0\n",
      "15     Jakeem    8.000000   27.0\n",
      "16     Helena    9.000000   36.0\n",
      "17      Ismat    6.000000   35.0\n",
      "18      Anila   10.000000   48.0\n",
      "19       Skye   12.000000   52.0\n",
      "20     Daniel   12.500000   63.0\n",
      "21      Aisha   12.000000   64.0\n",
      "22       Bill    8.000000    NaN\n",
      "23        Ted   10.413043    NaN\n"
     ]
    }
   ],
   "source": [
    "df_students.StudyHours = df_students.StudyHours.fillna(df_students.StudyHours.mean())\n",
    "print(df_students)\n"
   ]
  },
  {
   "cell_type": "code",
   "execution_count": 80,
   "metadata": {},
   "outputs": [
    {
     "name": "stdout",
     "output_type": "stream",
     "text": [
      "Average weekly study hours: 10.41\n",
      "Average grade: 49.18\n"
     ]
    }
   ],
   "source": [
    "# Get the mean study hours using to column name as an index\n",
    "mean_study = df_students['StudyHours'].mean()\n",
    "\n",
    "# Get the mean grade using the column name as a property (just to make the point!)\n",
    "mean_grade = df_students.Grade.mean()\n",
    "\n",
    "# Print the mean study hours and mean grade\n",
    "print('Average weekly study hours: {:.2f}\\nAverage grade: {:.2f}'.format(mean_study, mean_grade))\n"
   ]
  },
  {
   "cell_type": "code",
   "execution_count": 81,
   "metadata": {},
   "outputs": [
    {
     "name": "stdout",
     "output_type": "stream",
     "text": [
      "         Name  StudyHours  Grade\n",
      "1       Joann       11.50   50.0\n",
      "3       Rosie       16.00   97.0\n",
      "6    Frederic       11.50   53.0\n",
      "9    Giovanni       14.50   74.0\n",
      "10  Francesca       15.50   82.0\n",
      "11      Rajab       13.75   62.0\n",
      "14      Jenny       15.50   70.0\n",
      "19       Skye       12.00   52.0\n",
      "20     Daniel       12.50   63.0\n",
      "21      Aisha       12.00   64.0\n",
      "66.7\n"
     ]
    }
   ],
   "source": [
    "# Get students who studied for the mean or more hours\n",
    "print(df_students[df_students.StudyHours > mean_study])\n",
    "\n",
    "# What was their mean grade?\n",
    "print(df_students[df_students.StudyHours > mean_study].Grade.mean())\n",
    "\n"
   ]
  },
  {
   "cell_type": "code",
   "execution_count": 82,
   "metadata": {},
   "outputs": [
    {
     "name": "stdout",
     "output_type": "stream",
     "text": [
      "0     False\n",
      "1     False\n",
      "2     False\n",
      "3      True\n",
      "4     False\n",
      "5     False\n",
      "6     False\n",
      "7     False\n",
      "8     False\n",
      "9      True\n",
      "10     True\n",
      "11     True\n",
      "12    False\n",
      "13    False\n",
      "14     True\n",
      "15    False\n",
      "16    False\n",
      "17    False\n",
      "18    False\n",
      "19    False\n",
      "20     True\n",
      "21     True\n",
      "22    False\n",
      "23    False\n",
      "Name: Grade, dtype: bool\n"
     ]
    }
   ],
   "source": [
    "passes  = pd.Series(df_students['Grade'] >= 60)\n",
    "df_students = pd.concat([df_students, passes.rename(\"Pass\")], axis=1)\n",
    "print(passes)\n"
   ]
  },
  {
   "cell_type": "code",
   "execution_count": 83,
   "metadata": {},
   "outputs": [
    {
     "name": "stdout",
     "output_type": "stream",
     "text": [
      "         Name  StudyHours  Grade   Pass\n",
      "0         Dan   10.000000   50.0  False\n",
      "1       Joann   11.500000   50.0  False\n",
      "2       Pedro    9.000000   47.0  False\n",
      "3       Rosie   16.000000   97.0   True\n",
      "4       Ethan    9.250000   49.0  False\n",
      "5       Vicky    1.000000    3.0  False\n",
      "6    Frederic   11.500000   53.0  False\n",
      "7      Jimmie    9.000000   42.0  False\n",
      "8      Rhonda    8.500000   26.0  False\n",
      "9    Giovanni   14.500000   74.0   True\n",
      "10  Francesca   15.500000   82.0   True\n",
      "11      Rajab   13.750000   62.0   True\n",
      "12    Naiyana    9.000000   37.0  False\n",
      "13       Kian    8.000000   15.0  False\n",
      "14      Jenny   15.500000   70.0   True\n",
      "15     Jakeem    8.000000   27.0  False\n",
      "16     Helena    9.000000   36.0  False\n",
      "17      Ismat    6.000000   35.0  False\n",
      "18      Anila   10.000000   48.0  False\n",
      "19       Skye   12.000000   52.0  False\n",
      "20     Daniel   12.500000   63.0   True\n",
      "21      Aisha   12.000000   64.0   True\n",
      "22       Bill    8.000000    NaN  False\n",
      "23        Ted   10.413043    NaN  False\n"
     ]
    }
   ],
   "source": [
    "print(df_students)\n"
   ]
  },
  {
   "cell_type": "code",
   "execution_count": 84,
   "metadata": {},
   "outputs": [
    {
     "name": "stdout",
     "output_type": "stream",
     "text": [
      "Pass\n",
      "False    17\n",
      "True      7\n",
      "Name: Name, dtype: int64\n"
     ]
    }
   ],
   "source": [
    "print(df_students.groupby(df_students.Pass).Name.count())\n"
   ]
  },
  {
   "cell_type": "code",
   "execution_count": 85,
   "metadata": {},
   "outputs": [
    {
     "name": "stdout",
     "output_type": "stream",
     "text": [
      "       StudyHours      Grade\n",
      "Pass                        \n",
      "False     8.83312  38.000000\n",
      "True     14.25000  73.142857\n"
     ]
    },
    {
     "name": "stderr",
     "output_type": "stream",
     "text": [
      "C:\\Users\\raulv\\AppData\\Local\\Temp\\ipykernel_3040\\2502225861.py:1: FutureWarning: Indexing with multiple keys (implicitly converted to a tuple of keys) will be deprecated, use a list instead.\n",
      "  print(df_students.groupby(df_students.Pass)['StudyHours', 'Grade'].mean())\n"
     ]
    }
   ],
   "source": [
    "print(df_students.groupby(df_students.Pass)['StudyHours', 'Grade'].mean())"
   ]
  },
  {
   "cell_type": "code",
   "execution_count": 86,
   "metadata": {},
   "outputs": [
    {
     "name": "stdout",
     "output_type": "stream",
     "text": [
      "         Name  StudyHours  Grade   Pass\n",
      "3       Rosie   16.000000   97.0   True\n",
      "10  Francesca   15.500000   82.0   True\n",
      "9    Giovanni   14.500000   74.0   True\n",
      "14      Jenny   15.500000   70.0   True\n",
      "21      Aisha   12.000000   64.0   True\n",
      "20     Daniel   12.500000   63.0   True\n",
      "11      Rajab   13.750000   62.0   True\n",
      "6    Frederic   11.500000   53.0  False\n",
      "19       Skye   12.000000   52.0  False\n",
      "1       Joann   11.500000   50.0  False\n",
      "0         Dan   10.000000   50.0  False\n",
      "4       Ethan    9.250000   49.0  False\n",
      "18      Anila   10.000000   48.0  False\n",
      "2       Pedro    9.000000   47.0  False\n",
      "7      Jimmie    9.000000   42.0  False\n",
      "12    Naiyana    9.000000   37.0  False\n",
      "16     Helena    9.000000   36.0  False\n",
      "17      Ismat    6.000000   35.0  False\n",
      "15     Jakeem    8.000000   27.0  False\n",
      "8      Rhonda    8.500000   26.0  False\n",
      "13       Kian    8.000000   15.0  False\n",
      "5       Vicky    1.000000    3.0  False\n",
      "22       Bill    8.000000    NaN  False\n",
      "23        Ted   10.413043    NaN  False\n"
     ]
    }
   ],
   "source": [
    "# Create a DataFrame with the data sorted by Grade (descending)\n",
    "df_students = df_students.sort_values('Grade', ascending=False)\n",
    "\n",
    "# Show the DataFrame\n",
    "print(df_students)"
   ]
  }
 ],
 "metadata": {
  "kernelspec": {
   "display_name": "venv",
   "language": "python",
   "name": "python3"
  },
  "language_info": {
   "codemirror_mode": {
    "name": "ipython",
    "version": 3
   },
   "file_extension": ".py",
   "mimetype": "text/x-python",
   "name": "python",
   "nbconvert_exporter": "python",
   "pygments_lexer": "ipython3",
   "version": "3.11.1"
  },
  "orig_nbformat": 4,
  "vscode": {
   "interpreter": {
    "hash": "11ec388f491b3bc704f232a39012a26913ad6bfa322b962327eb6d255c011f39"
   }
  }
 },
 "nbformat": 4,
 "nbformat_minor": 2
}
