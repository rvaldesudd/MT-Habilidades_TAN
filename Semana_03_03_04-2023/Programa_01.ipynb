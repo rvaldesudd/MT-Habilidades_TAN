{
 "cells": [
  {
   "cell_type": "code",
   "execution_count": 15,
   "metadata": {},
   "outputs": [
    {
     "name": "stdout",
     "output_type": "stream",
     "text": [
      "Respuesta de pagina: 200\n",
      "b'<html>\\n<head>\\n<title>Profile: Aphrodite</title>\\n</head>\\n<body bgcolor=\"yellow\">\\n<center>\\n<br><br>\\n<img src=\"/static/aphrodite.gif\" />\\n<h2>Name: Aphrodite</h2>\\n<br><br>\\nFavorite animal: Dove\\n<br><br>\\nFavorite color: Red\\n<br><br>\\nHometown: Mount Olympus\\n</center>\\n</body>\\n</html>\\n'\n"
     ]
    }
   ],
   "source": [
    "#SECCION 1\n",
    "from urllib.request import urlopen\n",
    "url = \"http://olympus.realpython.org/profiles/aphrodite\"\n",
    "page = urlopen(url)\n",
    "print(f\"Respuesta de pagina: {page.status}\")\n",
    "html_bytes = page.read()\n",
    "print(html_bytes)\n"
   ]
  },
  {
   "cell_type": "code",
   "execution_count": 16,
   "metadata": {},
   "outputs": [
    {
     "name": "stdout",
     "output_type": "stream",
     "text": [
      "<html>\n",
      "<head>\n",
      "<title>Profile: Aphrodite</title>\n",
      "</head>\n",
      "<body bgcolor=\"yellow\">\n",
      "<center>\n",
      "<br><br>\n",
      "<img src=\"/static/aphrodite.gif\" />\n",
      "<h2>Name: Aphrodite</h2>\n",
      "<br><br>\n",
      "Favorite animal: Dove\n",
      "<br><br>\n",
      "Favorite color: Red\n",
      "<br><br>\n",
      "Hometown: Mount Olympus\n",
      "</center>\n",
      "</body>\n",
      "</html>\n",
      "\n"
     ]
    }
   ],
   "source": [
    "html = html_bytes.decode(\"utf-8\")\n",
    "print(html)"
   ]
  },
  {
   "cell_type": "code",
   "execution_count": 2,
   "metadata": {},
   "outputs": [
    {
     "name": "stdout",
     "output_type": "stream",
     "text": [
      "TITULO 1\n",
      "Profile: Aphrodite\n",
      "\n",
      "\n"
     ]
    }
   ],
   "source": [
    "#SECCION 2\n",
    "title_index = html.find(\"<title>\")\n",
    "#print(title_index)\n",
    "start_index = title_index + len(\"<title>\")\n",
    "end_index = html.find(\"</title>\")\n",
    "title = html[start_index:end_index]\n",
    "print('TITULO 1')\n",
    "print(title)\n",
    "print('\\n')"
   ]
  },
  {
   "cell_type": "code",
   "execution_count": 3,
   "metadata": {},
   "outputs": [
    {
     "name": "stdout",
     "output_type": "stream",
     "text": [
      "<html>\n",
      "<head>\n",
      "<title >Profile: Poseidon</title>\n",
      "</head>\n",
      "<body bgcolor=\"yellow\">\n",
      "<center>\n",
      "<br><br>\n",
      "<img src=\"/static/poseidon.jpg\" />\n",
      "<h2>Name: Poseidon</h2>\n",
      "<br><br>\n",
      "Favorite animal: Dolphin\n",
      "<br><br>\n",
      "Favorite color: Blue\n",
      "<br><br>\n",
      "Hometown: Sea\n",
      "</center>\n",
      "</body>\n",
      "</html>\n",
      "\n",
      "TITULO 2\n",
      "Profile: Poseidon\n"
     ]
    }
   ],
   "source": [
    "# que pasa si ocupamos misma metodologia para sacar la misma informacion?\n",
    "#SECCION 3\n",
    "url = \"http://olympus.realpython.org/profiles/poseidon\"\n",
    "page = urlopen(url)\n",
    "html = page.read().decode(\"utf-8\")\n",
    "print(html)\n",
    "start_index = html.find(\"<title >\") + len(\"<title >\")\n",
    "end_index = html.find(\"</title>\")\n",
    "title = html[start_index:end_index]\n",
    "print('TITULO 2')\n",
    "print(title)"
   ]
  },
  {
   "cell_type": "code",
   "execution_count": 18,
   "metadata": {},
   "outputs": [
    {
     "name": "stdout",
     "output_type": "stream",
     "text": [
      "<html>\n",
      "<head>\n",
      "<TITLE >Profile: Dionysus</title  / >\n",
      "</head>\n",
      "<body bgcolor=\"yellow\">\n",
      "<center>\n",
      "<br><br>\n",
      "<img src=\"/static/dionysus.jpg\" />\n",
      "<h2>Name: Dionysus</h2>\n",
      "<img src=\"/static/grapes.png\"><br><br>\n",
      "Hometown: Mount Olympus\n",
      "<br><br>\n",
      "Favorite animal: Leopard <br>\n",
      "<br>\n",
      "Favorite Color: Wine\n",
      "</center>\n",
      "</body>\n",
      "</html>\n",
      "\n"
     ]
    }
   ],
   "source": [
    "#SECCION 4\n",
    "url = \"http://olympus.realpython.org/profiles/dionysus\"\n",
    "html_page = urlopen(url)\n",
    "html_text = html_page.read().decode(\"utf-8\")\n",
    "print(html_text)\n"
   ]
  },
  {
   "cell_type": "code",
   "execution_count": 19,
   "metadata": {},
   "outputs": [
    {
     "name": "stdout",
     "output_type": "stream",
     "text": [
      "Dionysus\n",
      "Wine\n"
     ]
    }
   ],
   "source": [
    "\n",
    "for string in [\"Name: \", \"Favorite Color:\"]:\n",
    "    string_start_idx = html_text.find(string)\n",
    "    text_start_idx = string_start_idx + len(string)\n",
    "\n",
    "    next_html_tag_offset = html_text[text_start_idx:].find(\"<\")\n",
    "    text_end_idx = text_start_idx + next_html_tag_offset\n",
    "\n",
    "    raw_text = html_text[text_start_idx : text_end_idx]\n",
    "    clean_text = raw_text.strip(\" \\r\\n\\t\")\n",
    "    print(clean_text)"
   ]
  },
  {
   "cell_type": "code",
   "execution_count": 20,
   "metadata": {},
   "outputs": [
    {
     "name": "stdout",
     "output_type": "stream",
     "text": [
      "<html>\n",
      "<head>\n",
      "<title>Profile: Dionysus</title>\n",
      "</head>\n",
      "<body bgcolor=\"yellow\">\n",
      "<center>\n",
      "<br/><br/>\n",
      "<img src=\"/static/dionysus.jpg\"/>\n",
      "<h2>Name: Dionysus</h2>\n",
      "<img src=\"/static/grapes.png\"/><br/><br/>\n",
      "Hometown: Mount Olympus\n",
      "<br/><br/>\n",
      "Favorite animal: Leopard <br/>\n",
      "<br/>\n",
      "Favorite Color: Wine\n",
      "</center>\n",
      "</body>\n",
      "</html>\n",
      "\n"
     ]
    }
   ],
   "source": [
    "#SECCION 5\n",
    "#pip install beautifulsoup4\n",
    "# beauty_soup.py\n",
    "\n",
    "from bs4 import BeautifulSoup\n",
    "from urllib.request import urlopen\n",
    "\n",
    "url = \"http://olympus.realpython.org/profiles/dionysus\"\n",
    "page = urlopen(url)\n",
    "html = page.read().decode(\"utf-8\")\n",
    "#print(html)\n",
    "soup = BeautifulSoup(html, \"html.parser\")\n",
    "print(soup)"
   ]
  },
  {
   "cell_type": "code",
   "execution_count": 21,
   "metadata": {},
   "outputs": [
    {
     "name": "stdout",
     "output_type": "stream",
     "text": [
      "<html>\n",
      "<head>\n",
      "<TITLE >Profile: Dionysus</title  / >\n",
      "</head>\n",
      "<body bgcolor=\"yellow\">\n",
      "<center>\n",
      "<br><br>\n",
      "<img src=\"/static/dionysus.jpg\" />\n",
      "<h2>Name: Dionysus</h2>\n",
      "<img src=\"/static/grapes.png\"><br><br>\n",
      "Hometown: Mount Olympus\n",
      "<br><br>\n",
      "Favorite animal: Leopard <br>\n",
      "<br>\n",
      "Favorite Color: Wine\n",
      "</center>\n",
      "</body>\n",
      "</html>\n",
      "\n"
     ]
    }
   ],
   "source": [
    "print(html)"
   ]
  },
  {
   "cell_type": "code",
   "execution_count": 22,
   "metadata": {},
   "outputs": [
    {
     "name": "stdout",
     "output_type": "stream",
     "text": [
      "\n",
      "\n",
      "Profile: Dionysus\n",
      "\n",
      "\n",
      "\n",
      "\n",
      "\n",
      "Name: Dionysus\n",
      "\n",
      "Hometown: Mount Olympus\n",
      "\n",
      "Favorite animal: Leopard \n",
      "\n",
      "Favorite Color: Wine\n",
      "\n",
      "\n",
      "\n",
      "\n"
     ]
    }
   ],
   "source": [
    "\n",
    "print(soup.get_text())\n"
   ]
  },
  {
   "cell_type": "code",
   "execution_count": 23,
   "metadata": {},
   "outputs": [
    {
     "name": "stdout",
     "output_type": "stream",
     "text": [
      "[<img src=\"/static/dionysus.jpg\"/>, <img src=\"/static/grapes.png\"/>]\n"
     ]
    }
   ],
   "source": [
    "print(soup.find_all(\"img\"))\n"
   ]
  },
  {
   "cell_type": "code",
   "execution_count": 24,
   "metadata": {},
   "outputs": [
    {
     "name": "stdout",
     "output_type": "stream",
     "text": [
      "img\n",
      "/static/dionysus.jpg\n",
      "/static/grapes.png\n"
     ]
    }
   ],
   "source": [
    "image1, image2 = soup.find_all(\"img\")\n",
    "print(image1.name)\n",
    "print(image1[\"src\"])\n",
    "print(image2[\"src\"])\n"
   ]
  },
  {
   "cell_type": "code",
   "execution_count": 25,
   "metadata": {},
   "outputs": [
    {
     "name": "stdout",
     "output_type": "stream",
     "text": [
      "<title>Profile: Dionysus</title>\n",
      "Profile: Dionysus\n",
      "[<img src=\"/static/dionysus.jpg\"/>]\n"
     ]
    }
   ],
   "source": [
    "print(soup.title)\n",
    "print(soup.title.string)\n",
    "print(soup.find_all(\"img\", src=\"/static/dionysus.jpg\"))"
   ]
  },
  {
   "cell_type": "code",
   "execution_count": 27,
   "metadata": {},
   "outputs": [
    {
     "name": "stdout",
     "output_type": "stream",
     "text": [
      "<Response [200]>\n",
      "<class 'bs4.BeautifulSoup'>\n",
      "<html>\n",
      "<head>\n",
      "<title>Log In</title>\n",
      "</head>\n",
      "<body bgcolor=\"yellow\">\n",
      "<center>\n",
      "<br/><br/>\n",
      "<h2>Please log in to access Mount Olympus:</h2>\n",
      "<br/><br/>\n",
      "<form action=\"/login\" method=\"post\" name=\"login\">\n",
      "Username: <input name=\"user\" type=\"text\"/><br/>\n",
      "Password: <input name=\"pwd\" type=\"password\"/><br/><br/>\n",
      "<input type=\"submit\" value=\"Submit\"/>\n",
      "</form>\n",
      "</center>\n",
      "</body>\n",
      "</html>\n",
      "\n"
     ]
    }
   ],
   "source": [
    "#SECCION 6\n",
    "import mechanicalsoup\n",
    "browser = mechanicalsoup.Browser()\n",
    "url = \"http://olympus.realpython.org/login\"\n",
    "page = browser.get(url)\n",
    "print(page)\n",
    "print(type(page.soup))\n",
    "print(page.soup)"
   ]
  },
  {
   "cell_type": "code",
   "execution_count": 28,
   "metadata": {},
   "outputs": [
    {
     "name": "stdout",
     "output_type": "stream",
     "text": [
      "http://olympus.realpython.org/profiles\n",
      "[<a href=\"/profiles/aphrodite\">Aphrodite</a>, <a href=\"/profiles/poseidon\">Poseidon</a>, <a href=\"/profiles/dionysus\">Dionysus</a>]\n"
     ]
    }
   ],
   "source": [
    "login_page = browser.get(url)\n",
    "login_html = login_page.soup\n",
    "\n",
    "# 2\n",
    "form = login_html.select(\"form\")[0]\n",
    "form.select(\"input\")[0][\"value\"] = \"zeus\"\n",
    "form.select(\"input\")[1][\"value\"] = \"ThunderDude\"\n",
    "\n",
    "# 3\n",
    "profiles_page = browser.submit(form, login_page.url)\n",
    "print(profiles_page.url)\n",
    "links = profiles_page.soup.select(\"a\")\n",
    "print(links)"
   ]
  },
  {
   "cell_type": "code",
   "execution_count": 29,
   "metadata": {},
   "outputs": [
    {
     "name": "stdout",
     "output_type": "stream",
     "text": [
      "Aphrodite: /profiles/aphrodite\n",
      "Poseidon: /profiles/poseidon\n",
      "Dionysus: /profiles/dionysus\n",
      "Aphrodite: http://olympus.realpython.org/profiles/aphrodite\n",
      "Poseidon: http://olympus.realpython.org/profiles/poseidon\n",
      "Dionysus: http://olympus.realpython.org/profiles/dionysus\n"
     ]
    }
   ],
   "source": [
    "for link in links:\n",
    "     address = link[\"href\"]\n",
    "     text = link.text\n",
    "     print(f\"{text}: {address}\")\n",
    "base_url = \"http://olympus.realpython.org\"\n",
    "for link in links:\n",
    "     address = base_url + link[\"href\"]\n",
    "     text = link.text\n",
    "     print(f\"{text}: {address}\")\n"
   ]
  },
  {
   "cell_type": "code",
   "execution_count": 7,
   "metadata": {},
   "outputs": [
    {
     "name": "stdout",
     "output_type": "stream",
     "text": [
      "The result of your dice roll is: 2\n"
     ]
    }
   ],
   "source": [
    "#SECCION 7\n",
    "\n",
    "# mech_soup.py\n",
    "\n",
    "import mechanicalsoup\n",
    "\n",
    "browser = mechanicalsoup.Browser()\n",
    "page = browser.get(\"http://olympus.realpython.org/dice\")\n",
    "tag = page.soup.select(\"#result\")[0]\n",
    "result = tag.text\n",
    "\n",
    "print(f\"The result of your dice roll is: {result}\")"
   ]
  },
  {
   "cell_type": "code",
   "execution_count": 8,
   "metadata": {},
   "outputs": [
    {
     "name": "stdout",
     "output_type": "stream",
     "text": [
      "The result of your dice roll is: 1\n",
      "The result of your dice roll is: 1\n",
      "The result of your dice roll is: 2\n",
      "The result of your dice roll is: 3\n"
     ]
    }
   ],
   "source": [
    "# mech_soup.py\n",
    "\n",
    "import time\n",
    "import mechanicalsoup\n",
    "\n",
    "browser = mechanicalsoup.Browser()\n",
    "\n",
    "for i in range(4):\n",
    "    page = browser.get(\"http://olympus.realpython.org/dice\")\n",
    "    tag = page.soup.select(\"#result\")[0]\n",
    "    result = tag.text\n",
    "    print(f\"The result of your dice roll is: {result}\")\n",
    "    time.sleep(10)"
   ]
  }
 ],
 "metadata": {
  "kernelspec": {
   "display_name": "venv",
   "language": "python",
   "name": "python3"
  },
  "language_info": {
   "codemirror_mode": {
    "name": "ipython",
    "version": 3
   },
   "file_extension": ".py",
   "mimetype": "text/x-python",
   "name": "python",
   "nbconvert_exporter": "python",
   "pygments_lexer": "ipython3",
   "version": "3.11.1"
  },
  "orig_nbformat": 4,
  "vscode": {
   "interpreter": {
    "hash": "11ec388f491b3bc704f232a39012a26913ad6bfa322b962327eb6d255c011f39"
   }
  }
 },
 "nbformat": 4,
 "nbformat_minor": 2
}
